{
 "cells": [
  {
   "cell_type": "markdown",
   "metadata": {},
   "source": [
    "# Importing Libraries"
   ]
  },
  {
   "cell_type": "code",
   "execution_count": 1,
   "metadata": {
    "ExecuteTime": {
     "end_time": "2020-03-12T15:40:56.724838Z",
     "start_time": "2020-03-12T15:40:54.020856Z"
    },
    "cell_style": "split"
   },
   "outputs": [],
   "source": [
    "import numpy as np\n",
    "import pandas as pd\n",
    "import seaborn as sns\n",
    "from sklearn.preprocessing import StandardScaler\n",
    "from tqdm import tqdm,tqdm_notebook"
   ]
  },
  {
   "cell_type": "code",
   "execution_count": 2,
   "metadata": {
    "ExecuteTime": {
     "end_time": "2020-03-12T15:40:59.900059Z",
     "start_time": "2020-03-12T15:40:59.778361Z"
    },
    "cell_style": "split"
   },
   "outputs": [],
   "source": [
    "import matplotlib.pyplot as plt\n",
    "import csv\n",
    "import os\n",
    "import numpy as np\n",
    "from sklearn.decomposition import PCA"
   ]
  },
  {
   "cell_type": "markdown",
   "metadata": {},
   "source": [
    "# Importing Directories"
   ]
  },
  {
   "cell_type": "code",
   "execution_count": 3,
   "metadata": {
    "ExecuteTime": {
     "end_time": "2020-03-12T15:41:00.458190Z",
     "start_time": "2020-03-12T15:41:00.454202Z"
    }
   },
   "outputs": [],
   "source": [
    "_DIR_ = './Dataset/'\n",
    "!mkdir Exploration\n",
    "output_dir = './Exploration/'"
   ]
  },
  {
   "cell_type": "markdown",
   "metadata": {},
   "source": [
    "# Loading Train and Test dataset"
   ]
  },
  {
   "cell_type": "code",
   "execution_count": 4,
   "metadata": {
    "ExecuteTime": {
     "end_time": "2020-03-12T15:41:02.626387Z",
     "start_time": "2020-03-12T15:41:01.129393Z"
    },
    "cell_style": "split"
   },
   "outputs": [],
   "source": [
    "# Loading Training\n",
    "train_data = pd.read_csv(_DIR_+'train_techsoc.csv')\n",
    "# train_data.head()"
   ]
  },
  {
   "cell_type": "code",
   "execution_count": 5,
   "metadata": {
    "ExecuteTime": {
     "end_time": "2020-03-12T15:41:03.325776Z",
     "start_time": "2020-03-12T15:41:02.877718Z"
    },
    "cell_style": "split"
   },
   "outputs": [],
   "source": [
    "# Loading Test Data\n",
    "test_data = pd.read_csv('test_techsoc.csv')\n",
    "# test_data.head()"
   ]
  },
  {
   "cell_type": "markdown",
   "metadata": {},
   "source": [
    "# Combined"
   ]
  },
  {
   "cell_type": "code",
   "execution_count": 6,
   "metadata": {
    "ExecuteTime": {
     "end_time": "2020-03-12T15:41:03.674347Z",
     "start_time": "2020-03-12T15:41:03.604533Z"
    }
   },
   "outputs": [
    {
     "data": {
      "text/html": [
       "<div>\n",
       "<style scoped>\n",
       "    .dataframe tbody tr th:only-of-type {\n",
       "        vertical-align: middle;\n",
       "    }\n",
       "\n",
       "    .dataframe tbody tr th {\n",
       "        vertical-align: top;\n",
       "    }\n",
       "\n",
       "    .dataframe thead th {\n",
       "        text-align: right;\n",
       "    }\n",
       "</style>\n",
       "<table border=\"1\" class=\"dataframe\">\n",
       "  <thead>\n",
       "    <tr style=\"text-align: right;\">\n",
       "      <th></th>\n",
       "      <th>id</th>\n",
       "      <th>sat_id</th>\n",
       "      <th>epoch</th>\n",
       "      <th>x_sim</th>\n",
       "      <th>y_sim</th>\n",
       "      <th>z_sim</th>\n",
       "      <th>Vx_sim</th>\n",
       "      <th>Vy_sim</th>\n",
       "      <th>Vz_sim</th>\n",
       "    </tr>\n",
       "  </thead>\n",
       "  <tbody>\n",
       "    <tr>\n",
       "      <th>0</th>\n",
       "      <td>0</td>\n",
       "      <td>0</td>\n",
       "      <td>2014-01-01T00:00:00.000</td>\n",
       "      <td>-20522.087697</td>\n",
       "      <td>30489.622269</td>\n",
       "      <td>-48134.673845</td>\n",
       "      <td>-2.106080</td>\n",
       "      <td>-8.830029</td>\n",
       "      <td>-4.697368</td>\n",
       "    </tr>\n",
       "    <tr>\n",
       "      <th>1</th>\n",
       "      <td>1</td>\n",
       "      <td>0</td>\n",
       "      <td>2014-01-01T00:46:43.000</td>\n",
       "      <td>-24495.949108</td>\n",
       "      <td>3827.474600</td>\n",
       "      <td>-56794.235471</td>\n",
       "      <td>-0.704799</td>\n",
       "      <td>-9.908881</td>\n",
       "      <td>-1.430627</td>\n",
       "    </tr>\n",
       "    <tr>\n",
       "      <th>2</th>\n",
       "      <td>2</td>\n",
       "      <td>0</td>\n",
       "      <td>2014-01-01T01:33:26.001</td>\n",
       "      <td>-24533.911750</td>\n",
       "      <td>-23545.490605</td>\n",
       "      <td>-56325.644061</td>\n",
       "      <td>0.637910</td>\n",
       "      <td>-9.391303</td>\n",
       "      <td>1.668032</td>\n",
       "    </tr>\n",
       "    <tr>\n",
       "      <th>3</th>\n",
       "      <td>3</td>\n",
       "      <td>0</td>\n",
       "      <td>2014-01-01T02:20:09.001</td>\n",
       "      <td>-21233.351704</td>\n",
       "      <td>-47848.266747</td>\n",
       "      <td>-48188.986571</td>\n",
       "      <td>1.653338</td>\n",
       "      <td>-7.832768</td>\n",
       "      <td>3.987640</td>\n",
       "    </tr>\n",
       "    <tr>\n",
       "      <th>4</th>\n",
       "      <td>4</td>\n",
       "      <td>0</td>\n",
       "      <td>2014-01-01T03:06:52.002</td>\n",
       "      <td>-15616.695660</td>\n",
       "      <td>-67072.953982</td>\n",
       "      <td>-34792.578727</td>\n",
       "      <td>2.296041</td>\n",
       "      <td>-5.854192</td>\n",
       "      <td>5.435586</td>\n",
       "    </tr>\n",
       "  </tbody>\n",
       "</table>\n",
       "</div>"
      ],
      "text/plain": [
       "   id  sat_id                    epoch         x_sim         y_sim  \\\n",
       "0   0       0  2014-01-01T00:00:00.000 -20522.087697  30489.622269   \n",
       "1   1       0  2014-01-01T00:46:43.000 -24495.949108   3827.474600   \n",
       "2   2       0  2014-01-01T01:33:26.001 -24533.911750 -23545.490605   \n",
       "3   3       0  2014-01-01T02:20:09.001 -21233.351704 -47848.266747   \n",
       "4   4       0  2014-01-01T03:06:52.002 -15616.695660 -67072.953982   \n",
       "\n",
       "          z_sim    Vx_sim    Vy_sim    Vz_sim  \n",
       "0 -48134.673845 -2.106080 -8.830029 -4.697368  \n",
       "1 -56794.235471 -0.704799 -9.908881 -1.430627  \n",
       "2 -56325.644061  0.637910 -9.391303  1.668032  \n",
       "3 -48188.986571  1.653338 -7.832768  3.987640  \n",
       "4 -34792.578727  2.296041 -5.854192  5.435586  "
      ]
     },
     "execution_count": 6,
     "metadata": {},
     "output_type": "execute_result"
    }
   ],
   "source": [
    "cols = ['id','sat_id','epoch','x_sim','y_sim','z_sim','Vx_sim','Vy_sim','Vz_sim']\n",
    "combined = pd.concat([train_data[cols],test_data],axis=0)\n",
    "combined.head()"
   ]
  },
  {
   "cell_type": "markdown",
   "metadata": {},
   "source": [
    "# PCA on train dataset"
   ]
  },
  {
   "cell_type": "markdown",
   "metadata": {
    "cell_style": "center"
   },
   "source": [
    " ## For the Position Values"
   ]
  },
  {
   "cell_type": "code",
   "execution_count": 7,
   "metadata": {
    "ExecuteTime": {
     "end_time": "2020-03-12T15:41:04.126138Z",
     "start_time": "2020-03-12T15:41:04.106194Z"
    },
    "cell_style": "center"
   },
   "outputs": [],
   "source": [
    "x_train = train_data[['sat_id','x_sim','y_sim','z_sim']]\n",
    "x_act = train_data[['sat_id','x','y','z']]"
   ]
  },
  {
   "cell_type": "code",
   "execution_count": 8,
   "metadata": {
    "ExecuteTime": {
     "end_time": "2020-03-12T15:41:12.306730Z",
     "start_time": "2020-03-12T15:41:04.826777Z"
    }
   },
   "outputs": [
    {
     "data": {
      "application/vnd.jupyter.widget-view+json": {
       "model_id": "315213c733a44c829e41e29c6144fccc",
       "version_major": 2,
       "version_minor": 0
      },
      "text/plain": [
       "HBox(children=(IntProgress(value=0, max=600), HTML(value='')))"
      ]
     },
     "metadata": {},
     "output_type": "display_data"
    },
    {
     "name": "stdout",
     "output_type": "stream",
     "text": [
      "\n"
     ]
    }
   ],
   "source": [
    "pca_trans_position= {}\n",
    "n = len(train_data.sat_id.unique())\n",
    "# n = 1\n",
    "for k in tqdm(range(n)):\n",
    "    temp_train = x_train[x_train.sat_id == int(k)]\n",
    "    temp_act = x_act[x_act.sat_id == int(k)]\n",
    "    scalar_train = StandardScaler() \n",
    "    scalar_train.fit(temp_train[temp_train.columns[1:]])\n",
    "    scaled_data_train = scalar_train.transform(temp_train[temp_train.columns[1:]])\n",
    "    \n",
    "    scalar_act = StandardScaler() \n",
    "    scalar_act.fit(temp_act[temp_act.columns[1:]])\n",
    "    scaled_data_act = scalar_act.transform(temp_act[temp_act.columns[1:]])\n",
    "    \n",
    "    pca_train = PCA(n_components = 2) \n",
    "    pca_act = PCA(n_components = 2) \n",
    "    \n",
    "    pca_train.fit(scaled_data_train)\n",
    "    x_pca_train = pca_train.transform(scaled_data_train)     \n",
    "\n",
    "    pca_act.fit(scaled_data_act)\n",
    "    x_pca_act = pca_act.transform(scaled_data_act)     \n",
    "    \n",
    "    pca_trans_position[str(k)] = {'pca_train':pca_train\n",
    "                     ,'pca_act':pca_act\n",
    "                     ,'scalar_train':scalar_train\n",
    "                     ,'scalar_act':scalar_act\n",
    "                     ,'x_pca_train':x_pca_train\n",
    "                     ,'x_pca_act':x_pca_act}\n",
    "    "
   ]
  },
  {
   "cell_type": "markdown",
   "metadata": {},
   "source": [
    "## For the Velocity Values"
   ]
  },
  {
   "cell_type": "code",
   "execution_count": 10,
   "metadata": {
    "ExecuteTime": {
     "end_time": "2020-03-12T15:42:02.625415Z",
     "start_time": "2020-03-12T15:41:55.134451Z"
    }
   },
   "outputs": [
    {
     "name": "stdout",
     "output_type": "stream",
     "text": [
      ">>> Processing PCA for Velocities ...\n"
     ]
    },
    {
     "data": {
      "application/vnd.jupyter.widget-view+json": {
       "model_id": "93bbb2ff175f4070bc65e27a17d8d00b",
       "version_major": 2,
       "version_minor": 0
      },
      "text/plain": [
       "HBox(children=(IntProgress(value=0, max=600), HTML(value='')))"
      ]
     },
     "metadata": {},
     "output_type": "display_data"
    },
    {
     "name": "stdout",
     "output_type": "stream",
     "text": [
      "\n"
     ]
    }
   ],
   "source": [
    "pca_trans_velocity = {}\n",
    "n = len(train_data.sat_id.unique())\n",
    "# n = 1\n",
    "print('>>> Processing PCA for Velocities ...')\n",
    "for k in tqdm(range(n)):\n",
    "    temp_train = x_train[x_train.sat_id == int(k)]\n",
    "    temp_act = x_act[x_act.sat_id == int(k)]\n",
    "    scalar_train = StandardScaler() \n",
    "    scalar_train.fit(temp_train[temp_train.columns[1:]])\n",
    "    scaled_data_train = scalar_train.transform(temp_train[temp_train.columns[1:]])\n",
    "    \n",
    "    scalar_act = StandardScaler() \n",
    "    scalar_act.fit(temp_act[temp_act.columns[1:]])\n",
    "    scaled_data_act = scalar_act.transform(temp_act[temp_act.columns[1:]])\n",
    "    \n",
    "    pca_train = PCA(n_components = 2) \n",
    "    pca_act = PCA(n_components = 2) \n",
    "    \n",
    "    pca_train.fit(scaled_data_train)\n",
    "    x_pca_train = pca_train.transform(scaled_data_train)     \n",
    "\n",
    "    pca_act.fit(scaled_data_act)\n",
    "    x_pca_act = pca_act.transform(scaled_data_act)     \n",
    "    \n",
    "    pca_trans_velocity[str(k)] = {'pca_train':pca_train\n",
    "                     ,'pca_act':pca_act\n",
    "                     ,'scalar_train':scalar_train\n",
    "                     ,'scalar_act':scalar_act\n",
    "                     ,'x_pca_train':x_pca_train\n",
    "                     ,'x_pca_act':x_pca_act}\n",
    "    "
   ]
  },
  {
   "cell_type": "code",
   "execution_count": null,
   "metadata": {
    "ExecuteTime": {
     "end_time": "2020-03-12T15:43:09.297112Z",
     "start_time": "2020-03-12T15:42:03.264Z"
    }
   },
   "outputs": [],
   "source": [
    "print(pca_trans_velocity['0'])"
   ]
  },
  {
   "cell_type": "code",
   "execution_count": null,
   "metadata": {},
   "outputs": [],
   "source": []
  }
 ],
 "metadata": {
  "kernelspec": {
   "display_name": "Python 3",
   "language": "python",
   "name": "python3"
  },
  "toc": {
   "base_numbering": 1,
   "nav_menu": {},
   "number_sections": true,
   "sideBar": false,
   "skip_h1_title": false,
   "title_cell": "Table of Contents",
   "title_sidebar": "Contents",
   "toc_cell": false,
   "toc_position": {
    "height": "844px",
    "left": "1457.08px",
    "top": "46.6667px",
    "width": "364.25px"
   },
   "toc_section_display": true,
   "toc_window_display": true
  },
  "varInspector": {
   "cols": {
    "lenName": 16,
    "lenType": 16,
    "lenVar": 40
   },
   "kernels_config": {
    "python": {
     "delete_cmd_postfix": "",
     "delete_cmd_prefix": "del ",
     "library": "var_list.py",
     "varRefreshCmd": "print(var_dic_list())"
    },
    "r": {
     "delete_cmd_postfix": ") ",
     "delete_cmd_prefix": "rm(",
     "library": "var_list.r",
     "varRefreshCmd": "cat(var_dic_list()) "
    }
   },
   "types_to_exclude": [
    "module",
    "function",
    "builtin_function_or_method",
    "instance",
    "_Feature"
   ],
   "window_display": false
  }
 },
 "nbformat": 4,
 "nbformat_minor": 2
}